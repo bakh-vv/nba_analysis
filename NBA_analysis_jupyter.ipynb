{
 "cells": [
  {
   "cell_type": "code",
   "execution_count": 1,
   "metadata": {},
   "outputs": [],
   "source": [
    "import pandas as pd\n",
    "import numpy as np\n",
    "import os\n",
    "import matplotlib.pyplot as plt\n",
    "from scipy import stats\n",
    "import seaborn as sns\n",
    "import math"
   ]
  },
  {
   "cell_type": "code",
   "execution_count": 2,
   "metadata": {},
   "outputs": [],
   "source": [
    "team_3p_percentages_1_quarter = []\n",
    "team_3p_percentages_1_quarter_with_volume = []"
   ]
  },
  {
   "cell_type": "code",
   "execution_count": 3,
   "metadata": {},
   "outputs": [
    {
     "name": "stderr",
     "output_type": "stream",
     "text": [
      "C:\\Users\\Bakhtiyar\\Anaconda3\\lib\\site-packages\\ipykernel_launcher.py:3: ParserWarning: Falling back to the 'python' engine because the 'c' engine does not support regex separators (separators > 1 char and different from '\\s+' are interpreted as regex); you can avoid this warning by specifying engine='python'.\n",
      "  This is separate from the ipykernel package so we can avoid doing imports until\n"
     ]
    }
   ],
   "source": [
    "for csv_file in os.listdir('NBA_analysis\\CSV datasets\\csv 1 quarters'):\n",
    "     csv_path = str.format('NBA_analysis\\CSV datasets\\csv 1 quarters\\{0}', csv_file)\n",
    "     df_quarter = pd.read_csv(csv_path, sep=', ')\n",
    "     three_p_percentage = (df_quarter['FG3M'].sum() / df_quarter['FG3A'].sum()) * 100\n",
    "\n",
    "     team_3p_percentages_1_quarter.append({'team' : df_quarter['TEAM_NAME'][0], '3p_percentage_1st' : three_p_percentage})\n",
    "     team_3p_percentages_1_quarter_with_volume.append({'team' : df_quarter['TEAM_NAME'][0], '3p_percentage_1st' : three_p_percentage, '3p_volume_attempted_1st': df_quarter['FG3A'].sum()})"
   ]
  },
  {
   "cell_type": "code",
   "execution_count": 4,
   "metadata": {},
   "outputs": [],
   "source": [
    "team_3p_percentages_3_quarter = []\n",
    "team_3p_percentages_3_quarter_with_volume = []"
   ]
  },
  {
   "cell_type": "code",
   "execution_count": 70,
   "metadata": {},
   "outputs": [
    {
     "name": "stderr",
     "output_type": "stream",
     "text": [
      "C:\\Users\\Bakhtiyar\\Anaconda3\\lib\\site-packages\\ipykernel_launcher.py:3: ParserWarning: Falling back to the 'python' engine because the 'c' engine does not support regex separators (separators > 1 char and different from '\\s+' are interpreted as regex); you can avoid this warning by specifying engine='python'.\n",
      "  This is separate from the ipykernel package so we can avoid doing imports until\n"
     ]
    }
   ],
   "source": [
    "for csv_file in os.listdir('NBA_analysis\\CSV datasets\\csv 3 quarters'):\n",
    "     csv_path = str.format('NBA_analysis\\CSV datasets\\csv 3 quarters\\{0}', csv_file)\n",
    "     df_quarter = pd.read_csv(csv_path, sep=', ')\n",
    "     three_p_percentage = (df_quarter['FG3M'].sum() / df_quarter['FG3A'].sum()) * 100\n",
    "\n",
    "     team_3p_percentages_3_quarter.append({'team' : df_quarter['TEAM_NAME'][0], '3p_percentage_3rd' : three_p_percentage})\n",
    "     team_3p_percentages_3_quarter_with_volume.append({'team' : df_quarter['TEAM_NAME'][0], '3p_percentage_3rd' : three_p_percentage, '3p_volume_attempted_3rd': df_quarter['FG3A'].sum()})"
   ]
  },
  {
   "cell_type": "code",
   "execution_count": 10,
   "metadata": {},
   "outputs": [
    {
     "data": {
      "text/html": [
       "<div>\n",
       "<style scoped>\n",
       "    .dataframe tbody tr th:only-of-type {\n",
       "        vertical-align: middle;\n",
       "    }\n",
       "\n",
       "    .dataframe tbody tr th {\n",
       "        vertical-align: top;\n",
       "    }\n",
       "\n",
       "    .dataframe thead th {\n",
       "        text-align: right;\n",
       "    }\n",
       "</style>\n",
       "<table border=\"1\" class=\"dataframe\">\n",
       "  <thead>\n",
       "    <tr style=\"text-align: right;\">\n",
       "      <th></th>\n",
       "      <th>3p_percentage_1st</th>\n",
       "      <th>team</th>\n",
       "    </tr>\n",
       "  </thead>\n",
       "  <tbody>\n",
       "    <tr>\n",
       "      <th>0</th>\n",
       "      <td>35.590551</td>\n",
       "      <td>Atlanta Hawks</td>\n",
       "    </tr>\n",
       "    <tr>\n",
       "      <th>1</th>\n",
       "      <td>35.796178</td>\n",
       "      <td>Brooklyn Nets</td>\n",
       "    </tr>\n",
       "    <tr>\n",
       "      <th>2</th>\n",
       "      <td>41.750842</td>\n",
       "      <td>Boston Celtics</td>\n",
       "    </tr>\n",
       "    <tr>\n",
       "      <th>3</th>\n",
       "      <td>40.188679</td>\n",
       "      <td>Charlotte Hornets</td>\n",
       "    </tr>\n",
       "    <tr>\n",
       "      <th>4</th>\n",
       "      <td>37.641357</td>\n",
       "      <td>Chicago Bulls</td>\n",
       "    </tr>\n",
       "  </tbody>\n",
       "</table>\n",
       "</div>"
      ],
      "text/plain": [
       "   3p_percentage_1st               team\n",
       "0          35.590551      Atlanta Hawks\n",
       "1          35.796178      Brooklyn Nets\n",
       "2          41.750842     Boston Celtics\n",
       "3          40.188679  Charlotte Hornets\n",
       "4          37.641357      Chicago Bulls"
      ]
     },
     "execution_count": 10,
     "metadata": {},
     "output_type": "execute_result"
    }
   ],
   "source": [
    "df_3p_1_quarter = pd.DataFrame(team_3p_percentages_1_quarter)\n",
    "df_3p_3_quarter = pd.DataFrame(team_3p_percentages_3_quarter)\n",
    "df_3p_1_quarter.head()"
   ]
  },
  {
   "cell_type": "code",
   "execution_count": 11,
   "metadata": {},
   "outputs": [
    {
     "data": {
      "text/html": [
       "<div>\n",
       "<style scoped>\n",
       "    .dataframe tbody tr th:only-of-type {\n",
       "        vertical-align: middle;\n",
       "    }\n",
       "\n",
       "    .dataframe tbody tr th {\n",
       "        vertical-align: top;\n",
       "    }\n",
       "\n",
       "    .dataframe thead th {\n",
       "        text-align: right;\n",
       "    }\n",
       "</style>\n",
       "<table border=\"1\" class=\"dataframe\">\n",
       "  <thead>\n",
       "    <tr style=\"text-align: right;\">\n",
       "      <th></th>\n",
       "      <th>3p_percentage_3rd</th>\n",
       "      <th>team</th>\n",
       "    </tr>\n",
       "  </thead>\n",
       "  <tbody>\n",
       "    <tr>\n",
       "      <th>0</th>\n",
       "      <td>35.037594</td>\n",
       "      <td>Atlanta Hawks</td>\n",
       "    </tr>\n",
       "    <tr>\n",
       "      <th>1</th>\n",
       "      <td>37.067773</td>\n",
       "      <td>Brooklyn Nets</td>\n",
       "    </tr>\n",
       "    <tr>\n",
       "      <th>2</th>\n",
       "      <td>39.036545</td>\n",
       "      <td>Boston Celtics</td>\n",
       "    </tr>\n",
       "    <tr>\n",
       "      <th>3</th>\n",
       "      <td>38.941399</td>\n",
       "      <td>Charlotte Hornets</td>\n",
       "    </tr>\n",
       "    <tr>\n",
       "      <th>4</th>\n",
       "      <td>35.833333</td>\n",
       "      <td>Chicago Bulls</td>\n",
       "    </tr>\n",
       "  </tbody>\n",
       "</table>\n",
       "</div>"
      ],
      "text/plain": [
       "   3p_percentage_3rd               team\n",
       "0          35.037594      Atlanta Hawks\n",
       "1          37.067773      Brooklyn Nets\n",
       "2          39.036545     Boston Celtics\n",
       "3          38.941399  Charlotte Hornets\n",
       "4          35.833333      Chicago Bulls"
      ]
     },
     "execution_count": 11,
     "metadata": {},
     "output_type": "execute_result"
    }
   ],
   "source": [
    "df_3p_3_quarter.head()"
   ]
  },
  {
   "cell_type": "code",
   "execution_count": 12,
   "metadata": {},
   "outputs": [
    {
     "data": {
      "text/html": [
       "<div>\n",
       "<style scoped>\n",
       "    .dataframe tbody tr th:only-of-type {\n",
       "        vertical-align: middle;\n",
       "    }\n",
       "\n",
       "    .dataframe tbody tr th {\n",
       "        vertical-align: top;\n",
       "    }\n",
       "\n",
       "    .dataframe thead th {\n",
       "        text-align: right;\n",
       "    }\n",
       "</style>\n",
       "<table border=\"1\" class=\"dataframe\">\n",
       "  <thead>\n",
       "    <tr style=\"text-align: right;\">\n",
       "      <th></th>\n",
       "      <th>team</th>\n",
       "      <th>3p_percentage_1st</th>\n",
       "      <th>3p_percentage_3rd</th>\n",
       "    </tr>\n",
       "  </thead>\n",
       "  <tbody>\n",
       "    <tr>\n",
       "      <th>0</th>\n",
       "      <td>Atlanta Hawks</td>\n",
       "      <td>35.590551</td>\n",
       "      <td>35.037594</td>\n",
       "    </tr>\n",
       "    <tr>\n",
       "      <th>1</th>\n",
       "      <td>Brooklyn Nets</td>\n",
       "      <td>35.796178</td>\n",
       "      <td>37.067773</td>\n",
       "    </tr>\n",
       "    <tr>\n",
       "      <th>2</th>\n",
       "      <td>Boston Celtics</td>\n",
       "      <td>41.750842</td>\n",
       "      <td>39.036545</td>\n",
       "    </tr>\n",
       "    <tr>\n",
       "      <th>3</th>\n",
       "      <td>Charlotte Hornets</td>\n",
       "      <td>40.188679</td>\n",
       "      <td>38.941399</td>\n",
       "    </tr>\n",
       "    <tr>\n",
       "      <th>4</th>\n",
       "      <td>Chicago Bulls</td>\n",
       "      <td>37.641357</td>\n",
       "      <td>35.833333</td>\n",
       "    </tr>\n",
       "  </tbody>\n",
       "</table>\n",
       "</div>"
      ],
      "text/plain": [
       "                team  3p_percentage_1st  3p_percentage_3rd\n",
       "0      Atlanta Hawks          35.590551          35.037594\n",
       "1      Brooklyn Nets          35.796178          37.067773\n",
       "2     Boston Celtics          41.750842          39.036545\n",
       "3  Charlotte Hornets          40.188679          38.941399\n",
       "4      Chicago Bulls          37.641357          35.833333"
      ]
     },
     "execution_count": 12,
     "metadata": {},
     "output_type": "execute_result"
    }
   ],
   "source": [
    "#merge the two dataframes for convenience\n",
    "df_3p_1st_and_3rd = df_3p_1_quarter.merge(df_3p_3_quarter)\n",
    "df_3p_1st_and_3rd = df_3p_1st_and_3rd[['team', '3p_percentage_1st', '3p_percentage_3rd']]\n",
    "df_3p_1st_and_3rd.head()"
   ]
  },
  {
   "cell_type": "code",
   "execution_count": 17,
   "metadata": {},
   "outputs": [
    {
     "data": {
      "text/html": [
       "<div>\n",
       "<style scoped>\n",
       "    .dataframe tbody tr th:only-of-type {\n",
       "        vertical-align: middle;\n",
       "    }\n",
       "\n",
       "    .dataframe tbody tr th {\n",
       "        vertical-align: top;\n",
       "    }\n",
       "\n",
       "    .dataframe thead th {\n",
       "        text-align: right;\n",
       "    }\n",
       "</style>\n",
       "<table border=\"1\" class=\"dataframe\">\n",
       "  <thead>\n",
       "    <tr style=\"text-align: right;\">\n",
       "      <th></th>\n",
       "      <th>team</th>\n",
       "      <th>Difference_between_1st_and_3rd</th>\n",
       "    </tr>\n",
       "  </thead>\n",
       "  <tbody>\n",
       "    <tr>\n",
       "      <th>0</th>\n",
       "      <td>Atlanta Hawks</td>\n",
       "      <td>0.552957</td>\n",
       "    </tr>\n",
       "    <tr>\n",
       "      <th>1</th>\n",
       "      <td>Brooklyn Nets</td>\n",
       "      <td>-1.271595</td>\n",
       "    </tr>\n",
       "    <tr>\n",
       "      <th>2</th>\n",
       "      <td>Boston Celtics</td>\n",
       "      <td>2.714297</td>\n",
       "    </tr>\n",
       "    <tr>\n",
       "      <th>3</th>\n",
       "      <td>Charlotte Hornets</td>\n",
       "      <td>1.247280</td>\n",
       "    </tr>\n",
       "    <tr>\n",
       "      <th>4</th>\n",
       "      <td>Chicago Bulls</td>\n",
       "      <td>1.808024</td>\n",
       "    </tr>\n",
       "  </tbody>\n",
       "</table>\n",
       "</div>"
      ],
      "text/plain": [
       "                team  Difference_between_1st_and_3rd\n",
       "0      Atlanta Hawks                        0.552957\n",
       "1      Brooklyn Nets                       -1.271595\n",
       "2     Boston Celtics                        2.714297\n",
       "3  Charlotte Hornets                        1.247280\n",
       "4      Chicago Bulls                        1.808024"
      ]
     },
     "execution_count": 17,
     "metadata": {},
     "output_type": "execute_result"
    }
   ],
   "source": [
    "# difference μ1−μ2 between quarter accuracy for each team\n",
    "df_3p_1st_and_3rd['Difference_between_1st_and_3rd'] = df_3p_1st_and_3rd['3p_percentage_1st'] - df_3p_1st_and_3rd['3p_percentage_3rd']\n",
    "df_3p_1st_and_3rd[['team', 'Difference_between_1st_and_3rd']].head()"
   ]
  },
  {
   "cell_type": "code",
   "execution_count": 18,
   "metadata": {},
   "outputs": [
    {
     "data": {
      "text/plain": [
       "Text(0,0.5,'Teams')"
      ]
     },
     "execution_count": 18,
     "metadata": {},
     "output_type": "execute_result"
    },
    {
     "data": {
      "image/png": "[encoded data removed]",
      "text/plain": [
       "<Figure size 432x288 with 1 Axes>"
      ]
     },
     "metadata": {},
     "output_type": "display_data"
    }
   ],
   "source": [
    "# histogram\n",
    "df_3p_1st_and_3rd.hist(\"Difference_between_1st_and_3rd\")\n",
    "plt.title(\"Histogram of the difference between 1st and 3rd quarter 3 point shot accuracy\")\n",
    "plt.xlabel(\"Difference\")\n",
    "plt.ylabel(\"Teams\")"
   ]
  },
  {
   "cell_type": "code",
   "execution_count": 19,
   "metadata": {},
   "outputs": [
    {
     "data": {
      "text/plain": [
       "count    30.000000\n",
       "mean      0.674881\n",
       "std       3.145046\n",
       "min      -4.581340\n",
       "25%      -1.381035\n",
       "50%      -0.091312\n",
       "75%       2.487729\n",
       "max       7.577884\n",
       "Name: Difference_between_1st_and_3rd, dtype: float64"
      ]
     },
     "execution_count": 19,
     "metadata": {},
     "output_type": "execute_result"
    }
   ],
   "source": [
    "# descriptive statistics\n",
    "df_3p_1st_and_3rd['Difference_between_1st_and_3rd'].describe()"
   ]
  },
  {
   "cell_type": "code",
   "execution_count": 20,
   "metadata": {},
   "outputs": [
    {
     "data": {
      "text/plain": [
       "Text(0,0.5,'Команды')"
      ]
     },
     "execution_count": 20,
     "metadata": {},
     "output_type": "execute_result"
    },
    {
     "data": {
      "image/png": "[encoded data removed]",
      "text/plain": [
       "<Figure size 432x288 with 1 Axes>"
      ]
     },
     "metadata": {},
     "output_type": "display_data"
    }
   ],
   "source": [
    "# in Russian\n",
    "df_3p_1st_and_3rd.hist(\"Difference_between_1st_and_3rd\")\n",
    "plt.title(\"Гистограмма разницы в точности трехочковых бросков между 1ой и 3ей четвертями\")\n",
    "plt.xlabel(\"Разница\")\n",
    "plt.ylabel(\"Команды\")"
   ]
  },
  {
   "cell_type": "code",
   "execution_count": 21,
   "metadata": {},
   "outputs": [
    {
     "data": {
      "text/plain": [
       "Ttest_relResult(statistic=1.1753325804178147, pvalue=0.24942155727039717)"
      ]
     },
     "execution_count": 21,
     "metadata": {},
     "output_type": "execute_result"
    }
   ],
   "source": [
    "stats.ttest_rel(df_3p_1st_and_3rd['3p_percentage_1st'], df_3p_1st_and_3rd['3p_percentage_3rd'])\n"
   ]
  },
  {
   "cell_type": "markdown",
   "metadata": {},
   "source": [
    "nothing significant, but the \"3 quarter warriors\""
   ]
  },
  {
   "cell_type": "markdown",
   "metadata": {},
   "source": [
    "# C->C Chi-square test for independence\n",
    "### in games where the lead is within 5 points at the half, does being ahead correlate with winning?"
   ]
  },
  {
   "cell_type": "code",
   "execution_count": 66,
   "metadata": {},
   "outputs": [],
   "source": [
    "#each game is duplicated (counted once for both home and away team)\n",
    "df_first_half_duplicated = pd.read_csv('NBA_analysis\\CSV datasets\\\\all_games_first_half_plus_minus.csv', sep=', ', engine = 'python')\n",
    "#duplicates are removed (each game is counted only once)\n",
    "df_first_half = df_first_half_duplicated.drop_duplicates(subset = 'GAME_ID')"
   ]
  },
  {
   "cell_type": "code",
   "execution_count": 85,
   "metadata": {},
   "outputs": [],
   "source": [
    "def check_significance_chi_lead(df):\n",
    "    df['1st_half_win'] = df_first_half_close_game['PLUS_MINUS'] > 0\n",
    "\n",
    "    print(pd.crosstab(df['1st_half_win'], df['WL'], margins=True), '\\n')\n",
    "    print(pd.crosstab(df['1st_half_win'], df['WL'], normalize='index', margins=True), '\\n')\n",
    "    p_value = stats.chi2_contingency(pd.crosstab(df['1st_half_win'], df['WL']), correction = False)[1]\n",
    "    print('p-value =', p_value)\n",
    "    \n",
    "    if p_value >= 0.05:\n",
    "        print('The association isn\\'t statistically significant')\n",
    "    else:\n",
    "        print('The association is statistically significant')"
   ]
  },
  {
   "cell_type": "code",
   "execution_count": 54,
   "metadata": {},
   "outputs": [
    {
     "name": "stdout",
     "output_type": "stream",
     "text": [
      "WL             L   W  All\n",
      "1st_half_win             \n",
      "False         49  49   98\n",
      "True          45  50   95\n",
      "All           94  99  193 \n",
      "\n",
      "WL                   L         W\n",
      "1st_half_win                    \n",
      "False         0.500000  0.500000\n",
      "True          0.473684  0.526316\n",
      "All           0.487047  0.512953 \n",
      "\n",
      "p-value = 0.7146119361807466\n",
      "The association isn't statistically significant\n"
     ]
    },
    {
     "name": "stderr",
     "output_type": "stream",
     "text": [
      "C:\\Users\\Bakhtiyar\\Anaconda3\\lib\\site-packages\\ipykernel_launcher.py:2: SettingWithCopyWarning: \n",
      "A value is trying to be set on a copy of a slice from a DataFrame.\n",
      "Try using .loc[row_indexer,col_indexer] = value instead\n",
      "\n",
      "See the caveats in the documentation: http://pandas.pydata.org/pandas-docs/stable/indexing.html#indexing-view-versus-copy\n",
      "  \n"
     ]
    }
   ],
   "source": [
    "# check if lead within 2 points is significant\n",
    "df_first_half_close_game = df_first_half[((df_first_half['PLUS_MINUS'] >= -2) & (df_first_half['PLUS_MINUS'] <= -1)) | ((df_first_half['PLUS_MINUS'] >= 1) & (df_first_half['PLUS_MINUS'] <= 2))]\n",
    "\n",
    "check_significance_chi_lead(df_first_half_close_game)"
   ]
  },
  {
   "cell_type": "code",
   "execution_count": 55,
   "metadata": {},
   "outputs": [
    {
     "name": "stdout",
     "output_type": "stream",
     "text": [
      "WL             L   W  All\n",
      "1st_half_win             \n",
      "False         27  22   49\n",
      "True          20  26   46\n",
      "All           47  48   95 \n",
      "\n",
      "WL                   L         W\n",
      "1st_half_win                    \n",
      "False         0.551020  0.448980\n",
      "True          0.434783  0.565217\n",
      "All           0.494737  0.505263 \n",
      "\n",
      "p-value = 0.257447973768723\n",
      "The association isn't statistically significant\n"
     ]
    },
    {
     "name": "stderr",
     "output_type": "stream",
     "text": [
      "C:\\Users\\Bakhtiyar\\Anaconda3\\lib\\site-packages\\ipykernel_launcher.py:2: SettingWithCopyWarning: \n",
      "A value is trying to be set on a copy of a slice from a DataFrame.\n",
      "Try using .loc[row_indexer,col_indexer] = value instead\n",
      "\n",
      "See the caveats in the documentation: http://pandas.pydata.org/pandas-docs/stable/indexing.html#indexing-view-versus-copy\n",
      "  \n"
     ]
    }
   ],
   "source": [
    "#check if lead of exactly 2 points is significant\n",
    "df_first_half_close_game = df_first_half[(df_first_half['PLUS_MINUS'] == -2) | (df_first_half['PLUS_MINUS'] == 2)]\n",
    "\n",
    "check_significance_chi_lead(df_first_half_close_game)"
   ]
  },
  {
   "cell_type": "code",
   "execution_count": 56,
   "metadata": {},
   "outputs": [
    {
     "name": "stdout",
     "output_type": "stream",
     "text": [
      "WL              L    W  All\n",
      "1st_half_win               \n",
      "False          70   65  135\n",
      "True           68   84  152\n",
      "All           138  149  287 \n",
      "\n",
      "WL                   L         W\n",
      "1st_half_win                    \n",
      "False         0.518519  0.481481\n",
      "True          0.447368  0.552632\n",
      "All           0.480836  0.519164 \n",
      "\n",
      "p-value = 0.2285403307316972\n",
      "The association isn't statistically significant\n"
     ]
    },
    {
     "name": "stderr",
     "output_type": "stream",
     "text": [
      "C:\\Users\\Bakhtiyar\\Anaconda3\\lib\\site-packages\\ipykernel_launcher.py:2: SettingWithCopyWarning: \n",
      "A value is trying to be set on a copy of a slice from a DataFrame.\n",
      "Try using .loc[row_indexer,col_indexer] = value instead\n",
      "\n",
      "See the caveats in the documentation: http://pandas.pydata.org/pandas-docs/stable/indexing.html#indexing-view-versus-copy\n",
      "  \n"
     ]
    }
   ],
   "source": [
    "#checking if lead within 3 points is significant\n",
    "df_first_half_close_game = df_first_half[((df_first_half['PLUS_MINUS'] >= -3) & (df_first_half['PLUS_MINUS'] <= -1)) | ((df_first_half['PLUS_MINUS'] >= 1) & (df_first_half['PLUS_MINUS'] <= 3))]\n",
    "\n",
    "check_significance_chi_lead(df_first_half_close_game)"
   ]
  },
  {
   "cell_type": "code",
   "execution_count": 57,
   "metadata": {},
   "outputs": [
    {
     "name": "stdout",
     "output_type": "stream",
     "text": [
      "WL             L   W  All\n",
      "1st_half_win             \n",
      "False         21  16   37\n",
      "True          23  34   57\n",
      "All           44  50   94 \n",
      "\n",
      "WL                   L         W\n",
      "1st_half_win                    \n",
      "False         0.567568  0.432432\n",
      "True          0.403509  0.596491\n",
      "All           0.468085  0.531915 \n",
      "\n",
      "p-value = 0.11938386364583775\n",
      "The association isn't statistically significant\n"
     ]
    },
    {
     "name": "stderr",
     "output_type": "stream",
     "text": [
      "C:\\Users\\Bakhtiyar\\Anaconda3\\lib\\site-packages\\ipykernel_launcher.py:2: SettingWithCopyWarning: \n",
      "A value is trying to be set on a copy of a slice from a DataFrame.\n",
      "Try using .loc[row_indexer,col_indexer] = value instead\n",
      "\n",
      "See the caveats in the documentation: http://pandas.pydata.org/pandas-docs/stable/indexing.html#indexing-view-versus-copy\n",
      "  \n"
     ]
    }
   ],
   "source": [
    "#checking if lead of exactly 3 points is significant, still not\n",
    "df_first_half_close_game = df_first_half[(df_first_half['PLUS_MINUS'] == -3) | (df_first_half['PLUS_MINUS'] == 3)]\n",
    "\n",
    "check_significance_chi_lead(df_first_half_close_game)"
   ]
  },
  {
   "cell_type": "code",
   "execution_count": 59,
   "metadata": {},
   "outputs": [
    {
     "name": "stdout",
     "output_type": "stream",
     "text": [
      "WL              L    W  All\n",
      "1st_half_win               \n",
      "False          87   83  170\n",
      "True           83  108  191\n",
      "All           170  191  361 \n",
      "\n",
      "WL                   L         W\n",
      "1st_half_win                    \n",
      "False         0.511765  0.488235\n",
      "True          0.434555  0.565445\n",
      "All           0.470914  0.529086 \n",
      "\n",
      "p-value = 0.14238016058673728\n",
      "The association isn't statistically significant\n"
     ]
    },
    {
     "name": "stderr",
     "output_type": "stream",
     "text": [
      "C:\\Users\\Bakhtiyar\\Anaconda3\\lib\\site-packages\\ipykernel_launcher.py:2: SettingWithCopyWarning: \n",
      "A value is trying to be set on a copy of a slice from a DataFrame.\n",
      "Try using .loc[row_indexer,col_indexer] = value instead\n",
      "\n",
      "See the caveats in the documentation: http://pandas.pydata.org/pandas-docs/stable/indexing.html#indexing-view-versus-copy\n",
      "  \n"
     ]
    }
   ],
   "source": [
    "#Check if lead within 4 points is significant\n",
    "df_first_half_close_game = df_first_half[((df_first_half['PLUS_MINUS'] >= -4) & (df_first_half['PLUS_MINUS'] <= -1)) | ((df_first_half['PLUS_MINUS'] >= 1) & (df_first_half['PLUS_MINUS'] <= 4))]\n",
    "\n",
    "check_significance_chi_lead(df_first_half_close_game)"
   ]
  },
  {
   "cell_type": "code",
   "execution_count": 60,
   "metadata": {},
   "outputs": [
    {
     "name": "stderr",
     "output_type": "stream",
     "text": [
      "C:\\Users\\Bakhtiyar\\Anaconda3\\lib\\site-packages\\ipykernel_launcher.py:2: SettingWithCopyWarning: \n",
      "A value is trying to be set on a copy of a slice from a DataFrame.\n",
      "Try using .loc[row_indexer,col_indexer] = value instead\n",
      "\n",
      "See the caveats in the documentation: http://pandas.pydata.org/pandas-docs/stable/indexing.html#indexing-view-versus-copy\n",
      "  \n"
     ]
    },
    {
     "name": "stdout",
     "output_type": "stream",
     "text": [
      "WL             L   W  All\n",
      "1st_half_win             \n",
      "False         17  18   35\n",
      "True          15  24   39\n",
      "All           32  42   74 \n",
      "\n",
      "WL                   L         W\n",
      "1st_half_win                    \n",
      "False         0.485714  0.514286\n",
      "True          0.384615  0.615385\n",
      "All           0.432432  0.567568 \n",
      "\n",
      "p-value = 0.38078342795092013\n",
      "The association isn't statistically significant\n"
     ]
    }
   ],
   "source": [
    "#checking if lead of exactly 4 points is significant, still not\n",
    "df_first_half_close_game = df_first_half[(df_first_half['PLUS_MINUS'] == -4) | (df_first_half['PLUS_MINUS'] == 4)]\n",
    "\n",
    "check_significance_chi_lead(df_first_half_close_game)"
   ]
  },
  {
   "cell_type": "code",
   "execution_count": 61,
   "metadata": {},
   "outputs": [
    {
     "name": "stderr",
     "output_type": "stream",
     "text": [
      "C:\\Users\\Bakhtiyar\\Anaconda3\\lib\\site-packages\\ipykernel_launcher.py:2: SettingWithCopyWarning: \n",
      "A value is trying to be set on a copy of a slice from a DataFrame.\n",
      "Try using .loc[row_indexer,col_indexer] = value instead\n",
      "\n",
      "See the caveats in the documentation: http://pandas.pydata.org/pandas-docs/stable/indexing.html#indexing-view-versus-copy\n",
      "  \n"
     ]
    },
    {
     "name": "stdout",
     "output_type": "stream",
     "text": [
      "WL              L    W  All\n",
      "1st_half_win               \n",
      "False         121   94  215\n",
      "True           94  137  231\n",
      "All           215  231  446 \n",
      "\n",
      "WL                   L         W\n",
      "1st_half_win                    \n",
      "False         0.562791  0.437209\n",
      "True          0.406926  0.593074\n",
      "All           0.482063  0.517937 \n",
      "\n",
      "p-value = 0.0009960039387090216\n",
      "The association is statistically significant\n"
     ]
    }
   ],
   "source": [
    "#checking if lead within 5 points is significant, yes\n",
    "df_first_half_close_game = df_first_half[((df_first_half['PLUS_MINUS'] >= -5) & (df_first_half['PLUS_MINUS'] <= -1)) | ((df_first_half['PLUS_MINUS'] >= 1) & (df_first_half['PLUS_MINUS'] <= 5))]\n",
    "\n",
    "check_significance_chi_lead(df_first_half_close_game)"
   ]
  },
  {
   "cell_type": "markdown",
   "metadata": {},
   "source": [
    "# Multiple C->Q ANOVA\n",
    "### Position – age?"
   ]
  },
  {
   "cell_type": "code",
   "execution_count": 65,
   "metadata": {},
   "outputs": [],
   "source": [
    "df_position_age = pd.read_csv('NBA_analysis\\CSV datasets\\positionage.csv', sep=', ', engine = 'python')"
   ]
  },
  {
   "cell_type": "code",
   "execution_count": 71,
   "metadata": {},
   "outputs": [
    {
     "data": {
      "text/plain": [
       "Text(0,0.5,'Age')"
      ]
     },
     "execution_count": 71,
     "metadata": {},
     "output_type": "execute_result"
    },
    {
     "data": {
      "image/png": "[encoded data removed]",
      "text/plain": [
       "<Figure size 432x288 with 1 Axes>"
      ]
     },
     "metadata": {},
     "output_type": "display_data"
    }
   ],
   "source": [
    "df_position_age_cleaned = df_position_age.drop(499)\n",
    "sns.boxplot(df_position_age_cleaned['PLAYER_POSITION'], df_position_age_cleaned['AGE'])\n",
    "plt.title(\"Boxplots of the ages of players by different positions\")\n",
    "plt.xlabel(\"Position\")\n",
    "plt.ylabel(\"Age\")"
   ]
  },
  {
   "cell_type": "code",
   "execution_count": 72,
   "metadata": {},
   "outputs": [
    {
     "data": {
      "text/plain": [
       "Text(0,0.5,'Возраст')"
      ]
     },
     "execution_count": 72,
     "metadata": {},
     "output_type": "execute_result"
    },
    {
     "data": {
      "image/png": "[encoded data removed]",
      "text/plain": [
       "<Figure size 432x288 with 1 Axes>"
      ]
     },
     "metadata": {},
     "output_type": "display_data"
    }
   ],
   "source": [
    "# In Russian\n",
    "sns.boxplot(df_position_age_cleaned['PLAYER_POSITION'], df_position_age_cleaned['AGE'])\n",
    "plt.title(\"Диаграммы размаха возрастов игроков в разных позициях\")\n",
    "plt.xlabel(\"Позиция\")\n",
    "plt.ylabel(\"Возраст\")"
   ]
  },
  {
   "cell_type": "code",
   "execution_count": 73,
   "metadata": {},
   "outputs": [
    {
     "data": {
      "text/html": [
       "<div>\n",
       "<style scoped>\n",
       "    .dataframe tbody tr th:only-of-type {\n",
       "        vertical-align: middle;\n",
       "    }\n",
       "\n",
       "    .dataframe tbody tr th {\n",
       "        vertical-align: top;\n",
       "    }\n",
       "\n",
       "    .dataframe thead th {\n",
       "        text-align: right;\n",
       "    }\n",
       "</style>\n",
       "<table border=\"1\" class=\"dataframe\">\n",
       "  <thead>\n",
       "    <tr style=\"text-align: right;\">\n",
       "      <th></th>\n",
       "      <th>count</th>\n",
       "      <th>mean</th>\n",
       "      <th>std</th>\n",
       "      <th>min</th>\n",
       "      <th>25%</th>\n",
       "      <th>50%</th>\n",
       "      <th>75%</th>\n",
       "      <th>max</th>\n",
       "    </tr>\n",
       "    <tr>\n",
       "      <th>PLAYER_POSITION</th>\n",
       "      <th></th>\n",
       "      <th></th>\n",
       "      <th></th>\n",
       "      <th></th>\n",
       "      <th></th>\n",
       "      <th></th>\n",
       "      <th></th>\n",
       "      <th></th>\n",
       "    </tr>\n",
       "  </thead>\n",
       "  <tbody>\n",
       "    <tr>\n",
       "      <th>C</th>\n",
       "      <td>63.0</td>\n",
       "      <td>27.111111</td>\n",
       "      <td>4.399821</td>\n",
       "      <td>20.0</td>\n",
       "      <td>24.0</td>\n",
       "      <td>27.0</td>\n",
       "      <td>30.5</td>\n",
       "      <td>37.0</td>\n",
       "    </tr>\n",
       "    <tr>\n",
       "      <th>C-F</th>\n",
       "      <td>23.0</td>\n",
       "      <td>26.217391</td>\n",
       "      <td>5.071816</td>\n",
       "      <td>19.0</td>\n",
       "      <td>22.5</td>\n",
       "      <td>26.0</td>\n",
       "      <td>28.5</td>\n",
       "      <td>40.0</td>\n",
       "    </tr>\n",
       "    <tr>\n",
       "      <th>F</th>\n",
       "      <td>150.0</td>\n",
       "      <td>26.426667</td>\n",
       "      <td>4.045623</td>\n",
       "      <td>20.0</td>\n",
       "      <td>23.0</td>\n",
       "      <td>25.0</td>\n",
       "      <td>29.0</td>\n",
       "      <td>38.0</td>\n",
       "    </tr>\n",
       "    <tr>\n",
       "      <th>F-C</th>\n",
       "      <td>31.0</td>\n",
       "      <td>25.935484</td>\n",
       "      <td>3.881026</td>\n",
       "      <td>20.0</td>\n",
       "      <td>23.5</td>\n",
       "      <td>25.0</td>\n",
       "      <td>28.5</td>\n",
       "      <td>37.0</td>\n",
       "    </tr>\n",
       "    <tr>\n",
       "      <th>F-G</th>\n",
       "      <td>23.0</td>\n",
       "      <td>26.782609</td>\n",
       "      <td>4.155572</td>\n",
       "      <td>20.0</td>\n",
       "      <td>23.0</td>\n",
       "      <td>26.0</td>\n",
       "      <td>29.5</td>\n",
       "      <td>34.0</td>\n",
       "    </tr>\n",
       "    <tr>\n",
       "      <th>G</th>\n",
       "      <td>205.0</td>\n",
       "      <td>26.321951</td>\n",
       "      <td>4.006582</td>\n",
       "      <td>19.0</td>\n",
       "      <td>24.0</td>\n",
       "      <td>26.0</td>\n",
       "      <td>28.0</td>\n",
       "      <td>40.0</td>\n",
       "    </tr>\n",
       "    <tr>\n",
       "      <th>G-F</th>\n",
       "      <td>39.0</td>\n",
       "      <td>27.717949</td>\n",
       "      <td>5.155216</td>\n",
       "      <td>20.0</td>\n",
       "      <td>24.0</td>\n",
       "      <td>27.0</td>\n",
       "      <td>31.5</td>\n",
       "      <td>41.0</td>\n",
       "    </tr>\n",
       "  </tbody>\n",
       "</table>\n",
       "</div>"
      ],
      "text/plain": [
       "                 count       mean       std   min   25%   50%   75%   max\n",
       "PLAYER_POSITION                                                          \n",
       "C                 63.0  27.111111  4.399821  20.0  24.0  27.0  30.5  37.0\n",
       "C-F               23.0  26.217391  5.071816  19.0  22.5  26.0  28.5  40.0\n",
       "F                150.0  26.426667  4.045623  20.0  23.0  25.0  29.0  38.0\n",
       "F-C               31.0  25.935484  3.881026  20.0  23.5  25.0  28.5  37.0\n",
       "F-G               23.0  26.782609  4.155572  20.0  23.0  26.0  29.5  34.0\n",
       "G                205.0  26.321951  4.006582  19.0  24.0  26.0  28.0  40.0\n",
       "G-F               39.0  27.717949  5.155216  20.0  24.0  27.0  31.5  41.0"
      ]
     },
     "execution_count": 73,
     "metadata": {},
     "output_type": "execute_result"
    }
   ],
   "source": [
    "df_position_age_cleaned.groupby('PLAYER_POSITION')['AGE'].describe()"
   ]
  },
  {
   "cell_type": "code",
   "execution_count": 74,
   "metadata": {},
   "outputs": [
    {
     "data": {
      "text/plain": [
       "<matplotlib.axes._subplots.AxesSubplot at 0x12c92081748>"
      ]
     },
     "execution_count": 74,
     "metadata": {},
     "output_type": "execute_result"
    },
    {
     "data": {
      "image/png": "[encoded data removed]",
      "text/plain": [
       "<Figure size 432x288 with 1 Axes>"
      ]
     },
     "metadata": {},
     "output_type": "display_data"
    }
   ],
   "source": [
    "df_position_age_cleaned.query('PLAYER_POSITION==\"C-F\"')['AGE'].hist() #potential outlier\n"
   ]
  },
  {
   "cell_type": "markdown",
   "metadata": {},
   "source": [
    "potential outlier"
   ]
  },
  {
   "cell_type": "code",
   "execution_count": 75,
   "metadata": {},
   "outputs": [
    {
     "data": {
      "text/plain": [
       "116"
      ]
     },
     "execution_count": 75,
     "metadata": {},
     "output_type": "execute_result"
    }
   ],
   "source": [
    "df_position_age_cleaned.query('PLAYER_POSITION==\"C-F\"')['AGE'].idxmax()"
   ]
  },
  {
   "cell_type": "code",
   "execution_count": 76,
   "metadata": {},
   "outputs": [
    {
     "data": {
      "text/plain": [
       "F_onewayResult(statistic=0.955603760244476, pvalue=0.45477740597358385)"
      ]
     },
     "execution_count": 76,
     "metadata": {},
     "output_type": "execute_result"
    }
   ],
   "source": [
    "#running ANOVA on the full data\n",
    "stats.f_oneway(df_position_age_cleaned.query('PLAYER_POSITION==\"C\"')['AGE'], \\\n",
    "    df_position_age_cleaned.query('PLAYER_POSITION==\"C-F\"')['AGE'], df_position_age_cleaned.query('PLAYER_POSITION==\"F\"')['AGE'], \\\n",
    "    df_position_age_cleaned.query('PLAYER_POSITION==\"F-C\"')['AGE'], df_position_age_cleaned.query('PLAYER_POSITION==\"F-G\"')['AGE'], \\\n",
    "    df_position_age_cleaned.query('PLAYER_POSITION==\"G\"')['AGE'], df_position_age_cleaned.query('PLAYER_POSITION==\"G-F\"')['AGE'])"
   ]
  },
  {
   "cell_type": "code",
   "execution_count": 78,
   "metadata": {},
   "outputs": [
    {
     "data": {
      "text/plain": [
       "F_onewayResult(statistic=1.311318715208154, pvalue=0.2501211510855592)"
      ]
     },
     "execution_count": 78,
     "metadata": {},
     "output_type": "execute_result"
    }
   ],
   "source": [
    "# running ANOVA on the data without the outliers in the \"C-F' and 'F-C\" positions - Dirk Nowitzki and Nick Collison\n",
    "df_position_age_cleaned_outliers = df_position_age_cleaned.drop(116)\n",
    "df_position_age_cleaned_outliers = df_position_age_cleaned_outliers.drop(df_position_age_cleaned_outliers.query('PLAYER_POSITION==\"F-C\"')['AGE'].idxmax())\n",
    "\n",
    "stats.f_oneway(df_position_age_cleaned_outliers.query('PLAYER_POSITION==\"C\"')['AGE'], \\\n",
    "    df_position_age_cleaned_outliers.query('PLAYER_POSITION==\"C-F\"')['AGE'], df_position_age_cleaned_outliers.query('PLAYER_POSITION==\"F\"')['AGE'], \\\n",
    "    df_position_age_cleaned_outliers.query('PLAYER_POSITION==\"F-C\"')['AGE'], df_position_age_cleaned_outliers.query('PLAYER_POSITION==\"F-G\"')['AGE'], \\\n",
    "    df_position_age_cleaned_outliers.query('PLAYER_POSITION==\"G\"')['AGE'], df_position_age_cleaned_outliers.query('PLAYER_POSITION==\"G-F\"')['AGE'])"
   ]
  },
  {
   "cell_type": "markdown",
   "metadata": {},
   "source": [
    "The results are the same, so the outliers did not influence the results\n"
   ]
  },
  {
   "cell_type": "markdown",
   "metadata": {},
   "source": [
    "# C->C Chi-square test for independence\n",
    "### Usa/not usa -> position?"
   ]
  },
  {
   "cell_type": "code",
   "execution_count": 80,
   "metadata": {},
   "outputs": [],
   "source": [
    "df_position_usa = pd.read_csv('NBA_analysis\\CSV datasets\\\\positionUSA.csv', sep=', ', engine = 'python')\n",
    "df_position_int = pd.read_csv('NBA_analysis\\CSV datasets\\\\positionInt.csv', sep=', ', engine = 'python')"
   ]
  },
  {
   "cell_type": "code",
   "execution_count": 84,
   "metadata": {},
   "outputs": [
    {
     "data": {
      "text/html": [
       "<div>\n",
       "<style scoped>\n",
       "    .dataframe tbody tr th:only-of-type {\n",
       "        vertical-align: middle;\n",
       "    }\n",
       "\n",
       "    .dataframe tbody tr th {\n",
       "        vertical-align: top;\n",
       "    }\n",
       "\n",
       "    .dataframe thead th {\n",
       "        text-align: right;\n",
       "    }\n",
       "</style>\n",
       "<table border=\"1\" class=\"dataframe\">\n",
       "  <thead>\n",
       "    <tr style=\"text-align: right;\">\n",
       "      <th></th>\n",
       "      <th>CLOSE_DEF_PERSON_ID</th>\n",
       "      <th>PLAYER_NAME</th>\n",
       "      <th>PLAYER_LAST_TEAM_ID</th>\n",
       "      <th>PLAYER_LAST_TEAM_ABBREVIATION</th>\n",
       "      <th>PLAYER_POSITION</th>\n",
       "      <th>AGE</th>\n",
       "      <th>GP</th>\n",
       "      <th>G</th>\n",
       "      <th>FREQ</th>\n",
       "      <th>D_FGM</th>\n",
       "      <th>D_FGA</th>\n",
       "      <th>D_FG_PCT</th>\n",
       "      <th>PCT_PLUSMINUS</th>\n",
       "      <th>Origin</th>\n",
       "    </tr>\n",
       "  </thead>\n",
       "  <tbody>\n",
       "    <tr>\n",
       "      <th>0</th>\n",
       "      <td>202326</td>\n",
       "      <td>DeMarcus Cousins</td>\n",
       "      <td>1610612740</td>\n",
       "      <td>NOP</td>\n",
       "      <td>C</td>\n",
       "      <td>27.0</td>\n",
       "      <td>48</td>\n",
       "      <td>48</td>\n",
       "      <td>1.0</td>\n",
       "      <td>8.00</td>\n",
       "      <td>16.69</td>\n",
       "      <td>0.479</td>\n",
       "      <td>0.000</td>\n",
       "      <td>USA</td>\n",
       "    </tr>\n",
       "    <tr>\n",
       "      <th>1</th>\n",
       "      <td>203076</td>\n",
       "      <td>Anthony Davis</td>\n",
       "      <td>1610612740</td>\n",
       "      <td>NOP</td>\n",
       "      <td>F-C</td>\n",
       "      <td>25.0</td>\n",
       "      <td>75</td>\n",
       "      <td>75</td>\n",
       "      <td>1.0</td>\n",
       "      <td>6.52</td>\n",
       "      <td>16.45</td>\n",
       "      <td>0.396</td>\n",
       "      <td>-0.072</td>\n",
       "      <td>USA</td>\n",
       "    </tr>\n",
       "    <tr>\n",
       "      <th>2</th>\n",
       "      <td>1626157</td>\n",
       "      <td>Karl-Anthony Towns</td>\n",
       "      <td>1610612750</td>\n",
       "      <td>MIN</td>\n",
       "      <td>C</td>\n",
       "      <td>22.0</td>\n",
       "      <td>82</td>\n",
       "      <td>82</td>\n",
       "      <td>1.0</td>\n",
       "      <td>7.79</td>\n",
       "      <td>15.74</td>\n",
       "      <td>0.495</td>\n",
       "      <td>0.017</td>\n",
       "      <td>USA</td>\n",
       "    </tr>\n",
       "    <tr>\n",
       "      <th>3</th>\n",
       "      <td>201950</td>\n",
       "      <td>Jrue Holiday</td>\n",
       "      <td>1610612740</td>\n",
       "      <td>NOP</td>\n",
       "      <td>G</td>\n",
       "      <td>28.0</td>\n",
       "      <td>80</td>\n",
       "      <td>80</td>\n",
       "      <td>1.0</td>\n",
       "      <td>6.08</td>\n",
       "      <td>14.24</td>\n",
       "      <td>0.427</td>\n",
       "      <td>-0.024</td>\n",
       "      <td>USA</td>\n",
       "    </tr>\n",
       "    <tr>\n",
       "      <th>4</th>\n",
       "      <td>200794</td>\n",
       "      <td>Paul Millsap</td>\n",
       "      <td>1610612743</td>\n",
       "      <td>DEN</td>\n",
       "      <td>F</td>\n",
       "      <td>33.0</td>\n",
       "      <td>37</td>\n",
       "      <td>37</td>\n",
       "      <td>1.0</td>\n",
       "      <td>6.11</td>\n",
       "      <td>14.19</td>\n",
       "      <td>0.430</td>\n",
       "      <td>-0.040</td>\n",
       "      <td>USA</td>\n",
       "    </tr>\n",
       "  </tbody>\n",
       "</table>\n",
       "</div>"
      ],
      "text/plain": [
       "   CLOSE_DEF_PERSON_ID         PLAYER_NAME  PLAYER_LAST_TEAM_ID  \\\n",
       "0               202326    DeMarcus Cousins           1610612740   \n",
       "1               203076       Anthony Davis           1610612740   \n",
       "2              1626157  Karl-Anthony Towns           1610612750   \n",
       "3               201950        Jrue Holiday           1610612740   \n",
       "4               200794        Paul Millsap           1610612743   \n",
       "\n",
       "  PLAYER_LAST_TEAM_ABBREVIATION PLAYER_POSITION   AGE  GP   G  FREQ  D_FGM  \\\n",
       "0                           NOP               C  27.0  48  48   1.0   8.00   \n",
       "1                           NOP             F-C  25.0  75  75   1.0   6.52   \n",
       "2                           MIN               C  22.0  82  82   1.0   7.79   \n",
       "3                           NOP               G  28.0  80  80   1.0   6.08   \n",
       "4                           DEN               F  33.0  37  37   1.0   6.11   \n",
       "\n",
       "   D_FGA  D_FG_PCT  PCT_PLUSMINUS Origin  \n",
       "0  16.69     0.479          0.000    USA  \n",
       "1  16.45     0.396         -0.072    USA  \n",
       "2  15.74     0.495          0.017    USA  \n",
       "3  14.24     0.427         -0.024    USA  \n",
       "4  14.19     0.430         -0.040    USA  "
      ]
     },
     "execution_count": 84,
     "metadata": {},
     "output_type": "execute_result"
    }
   ],
   "source": [
    "df_position_usa.head()"
   ]
  },
  {
   "cell_type": "code",
   "execution_count": 83,
   "metadata": {},
   "outputs": [],
   "source": [
    "df_position_usa['Origin'] = 'USA'\n",
    "df_position_int['Origin'] = 'International'"
   ]
  },
  {
   "cell_type": "code",
   "execution_count": 82,
   "metadata": {},
   "outputs": [],
   "source": [
    "# remove data entry outlier (he's not the only \"pure\" pg)\n",
    "df_position_origin = df_position_usa.append(df_position_int)\n",
    "df_position_origin_clean = df_position_origin.drop(df_position_origin.index[df_position_origin['PLAYER_POSITION'] == \"PG\"].tolist()[0])"
   ]
  },
  {
   "cell_type": "code",
   "execution_count": 89,
   "metadata": {},
   "outputs": [
    {
     "name": "stdout",
     "output_type": "stream",
     "text": [
      "PLAYER_POSITION   C  C-F    F  F-C  F-G    G  G-F  PG  All\n",
      "Origin                                                    \n",
      "International    30    8   27   10    4   28    7   0  114\n",
      "USA              33   15  123   21   19  177   32   1  421\n",
      "All              63   23  150   31   23  205   39   1  535 \n",
      "\n",
      "Origin           International       USA\n",
      "PLAYER_POSITION                         \n",
      "C                     0.476190  0.523810\n",
      "C-F                   0.347826  0.652174\n",
      "F                     0.180000  0.820000\n",
      "F-C                   0.322581  0.677419\n",
      "F-G                   0.173913  0.826087\n",
      "G                     0.136585  0.863415\n",
      "G-F                   0.179487  0.820513\n",
      "All                   0.213483  0.786517\n"
     ]
    }
   ],
   "source": [
    "print(pd.crosstab(df_position_origin['Origin'], df_position_origin['PLAYER_POSITION'], margins=True), '\\n')\n",
    "print(pd.crosstab(df_position_origin_clean['PLAYER_POSITION'], df_position_origin_clean['Origin'], normalize='index', margins=True))\n",
    "#pd.crosstab(df_first_half_close_game['1st_half_win'], df_first_half_close_game['WL'], normalize='index', margins=True)"
   ]
  },
  {
   "cell_type": "code",
   "execution_count": 91,
   "metadata": {},
   "outputs": [
    {
     "data": {
      "text/plain": [
       "6.340368194661366e-07"
      ]
     },
     "execution_count": 91,
     "metadata": {},
     "output_type": "execute_result"
    }
   ],
   "source": [
    "stats.chi2_contingency(pd.crosstab(df_position_origin_clean['PLAYER_POSITION'], df_position_origin_clean['Origin']), correction = False)[1]"
   ]
  },
  {
   "cell_type": "markdown",
   "metadata": {},
   "source": [
    "Significant"
   ]
  },
  {
   "cell_type": "markdown",
   "metadata": {},
   "source": [
    "# Q->Q regression t-test for the slope\n",
    "### Draft number height?"
   ]
  },
  {
   "cell_type": "code",
   "execution_count": 93,
   "metadata": {},
   "outputs": [
    {
     "data": {
      "text/html": [
       "<div>\n",
       "<style scoped>\n",
       "    .dataframe tbody tr th:only-of-type {\n",
       "        vertical-align: middle;\n",
       "    }\n",
       "\n",
       "    .dataframe tbody tr th {\n",
       "        vertical-align: top;\n",
       "    }\n",
       "\n",
       "    .dataframe thead th {\n",
       "        text-align: right;\n",
       "    }\n",
       "</style>\n",
       "<table border=\"1\" class=\"dataframe\">\n",
       "  <thead>\n",
       "    <tr style=\"text-align: right;\">\n",
       "      <th></th>\n",
       "      <th>PLAYER_ID</th>\n",
       "      <th>PLAYER_NAME</th>\n",
       "      <th>TEAM_ID</th>\n",
       "      <th>TEAM_ABBREVIATION</th>\n",
       "      <th>AGE</th>\n",
       "      <th>PLAYER_HEIGHT</th>\n",
       "      <th>PLAYER_HEIGHT_INCHES</th>\n",
       "      <th>PLAYER_WEIGHT</th>\n",
       "      <th>COLLEGE</th>\n",
       "      <th>COUNTRY</th>\n",
       "      <th>...</th>\n",
       "      <th>DRAFT_NUMBER</th>\n",
       "      <th>GP</th>\n",
       "      <th>PTS</th>\n",
       "      <th>REB</th>\n",
       "      <th>AST</th>\n",
       "      <th>NET_RATING</th>\n",
       "      <th>OREB_PCT</th>\n",
       "      <th>DREB_PCT</th>\n",
       "      <th>USG_PCT</th>\n",
       "      <th>AST_PCT</th>\n",
       "    </tr>\n",
       "  </thead>\n",
       "  <tbody>\n",
       "    <tr>\n",
       "      <th>0</th>\n",
       "      <td>201166</td>\n",
       "      <td>Aaron Brooks</td>\n",
       "      <td>1610612750</td>\n",
       "      <td>MIN</td>\n",
       "      <td>33.0</td>\n",
       "      <td>6-0</td>\n",
       "      <td>72</td>\n",
       "      <td>161</td>\n",
       "      <td>Oregon</td>\n",
       "      <td>USA</td>\n",
       "      <td>...</td>\n",
       "      <td>26.0</td>\n",
       "      <td>32</td>\n",
       "      <td>2.3</td>\n",
       "      <td>0.5</td>\n",
       "      <td>0.6</td>\n",
       "      <td>-16.9</td>\n",
       "      <td>0.040</td>\n",
       "      <td>0.064</td>\n",
       "      <td>0.201</td>\n",
       "      <td>0.161</td>\n",
       "    </tr>\n",
       "    <tr>\n",
       "      <th>1</th>\n",
       "      <td>203932</td>\n",
       "      <td>Aaron Gordon</td>\n",
       "      <td>1610612753</td>\n",
       "      <td>ORL</td>\n",
       "      <td>22.0</td>\n",
       "      <td>6-9</td>\n",
       "      <td>81</td>\n",
       "      <td>220</td>\n",
       "      <td>Arizona</td>\n",
       "      <td>USA</td>\n",
       "      <td>...</td>\n",
       "      <td>4.0</td>\n",
       "      <td>58</td>\n",
       "      <td>17.6</td>\n",
       "      <td>7.9</td>\n",
       "      <td>2.3</td>\n",
       "      <td>-2.3</td>\n",
       "      <td>0.049</td>\n",
       "      <td>0.213</td>\n",
       "      <td>0.243</td>\n",
       "      <td>0.111</td>\n",
       "    </tr>\n",
       "    <tr>\n",
       "      <th>2</th>\n",
       "      <td>1626151</td>\n",
       "      <td>Aaron Harrison</td>\n",
       "      <td>1610612742</td>\n",
       "      <td>DAL</td>\n",
       "      <td>23.0</td>\n",
       "      <td>6-6</td>\n",
       "      <td>78</td>\n",
       "      <td>210</td>\n",
       "      <td>Kentucky</td>\n",
       "      <td>USA</td>\n",
       "      <td>...</td>\n",
       "      <td>NaN</td>\n",
       "      <td>9</td>\n",
       "      <td>6.7</td>\n",
       "      <td>2.7</td>\n",
       "      <td>1.2</td>\n",
       "      <td>-13.4</td>\n",
       "      <td>0.017</td>\n",
       "      <td>0.106</td>\n",
       "      <td>0.151</td>\n",
       "      <td>0.072</td>\n",
       "    </tr>\n",
       "    <tr>\n",
       "      <th>3</th>\n",
       "      <td>1628935</td>\n",
       "      <td>Aaron Jackson</td>\n",
       "      <td>1610612745</td>\n",
       "      <td>HOU</td>\n",
       "      <td>32.0</td>\n",
       "      <td>6-3</td>\n",
       "      <td>75</td>\n",
       "      <td>183</td>\n",
       "      <td>None</td>\n",
       "      <td>USA</td>\n",
       "      <td>...</td>\n",
       "      <td>NaN</td>\n",
       "      <td>1</td>\n",
       "      <td>8.0</td>\n",
       "      <td>3.0</td>\n",
       "      <td>1.0</td>\n",
       "      <td>-15.2</td>\n",
       "      <td>0.059</td>\n",
       "      <td>0.037</td>\n",
       "      <td>0.152</td>\n",
       "      <td>0.053</td>\n",
       "    </tr>\n",
       "    <tr>\n",
       "      <th>4</th>\n",
       "      <td>1627846</td>\n",
       "      <td>Abdel Nader</td>\n",
       "      <td>1610612738</td>\n",
       "      <td>BOS</td>\n",
       "      <td>24.0</td>\n",
       "      <td>6-6</td>\n",
       "      <td>78</td>\n",
       "      <td>230</td>\n",
       "      <td>Iowa State</td>\n",
       "      <td>Egypt</td>\n",
       "      <td>...</td>\n",
       "      <td>58.0</td>\n",
       "      <td>48</td>\n",
       "      <td>3.0</td>\n",
       "      <td>1.5</td>\n",
       "      <td>0.5</td>\n",
       "      <td>-10.1</td>\n",
       "      <td>0.027</td>\n",
       "      <td>0.122</td>\n",
       "      <td>0.168</td>\n",
       "      <td>0.078</td>\n",
       "    </tr>\n",
       "  </tbody>\n",
       "</table>\n",
       "<p>5 rows × 22 columns</p>\n",
       "</div>"
      ],
      "text/plain": [
       "   PLAYER_ID     PLAYER_NAME     TEAM_ID TEAM_ABBREVIATION   AGE  \\\n",
       "0     201166    Aaron Brooks  1610612750               MIN  33.0   \n",
       "1     203932    Aaron Gordon  1610612753               ORL  22.0   \n",
       "2    1626151  Aaron Harrison  1610612742               DAL  23.0   \n",
       "3    1628935   Aaron Jackson  1610612745               HOU  32.0   \n",
       "4    1627846     Abdel Nader  1610612738               BOS  24.0   \n",
       "\n",
       "  PLAYER_HEIGHT  PLAYER_HEIGHT_INCHES  PLAYER_WEIGHT     COLLEGE COUNTRY  \\\n",
       "0           6-0                    72            161      Oregon     USA   \n",
       "1           6-9                    81            220     Arizona     USA   \n",
       "2           6-6                    78            210    Kentucky     USA   \n",
       "3           6-3                    75            183        None     USA   \n",
       "4           6-6                    78            230  Iowa State   Egypt   \n",
       "\n",
       "    ...    DRAFT_NUMBER  GP   PTS  REB  AST  NET_RATING  OREB_PCT  DREB_PCT  \\\n",
       "0   ...            26.0  32   2.3  0.5  0.6       -16.9     0.040     0.064   \n",
       "1   ...             4.0  58  17.6  7.9  2.3        -2.3     0.049     0.213   \n",
       "2   ...             NaN   9   6.7  2.7  1.2       -13.4     0.017     0.106   \n",
       "3   ...             NaN   1   8.0  3.0  1.0       -15.2     0.059     0.037   \n",
       "4   ...            58.0  48   3.0  1.5  0.5       -10.1     0.027     0.122   \n",
       "\n",
       "   USG_PCT  AST_PCT  \n",
       "0    0.201    0.161  \n",
       "1    0.243    0.111  \n",
       "2    0.151    0.072  \n",
       "3    0.152    0.053  \n",
       "4    0.168    0.078  \n",
       "\n",
       "[5 rows x 22 columns]"
      ]
     },
     "execution_count": 93,
     "metadata": {},
     "output_type": "execute_result"
    }
   ],
   "source": [
    "df_player_bios = pd.read_csv('NBA_analysis\\CSV datasets\\\\playerbios.csv', sep=', ', engine = 'python')\n",
    "\n",
    "df_player_bios['DRAFT_NUMBER'] = pd.to_numeric(df_player_bios['DRAFT_NUMBER'], errors='coerce')\n",
    "df_player_bios['PLAYER_HEIGHT_INCHES'] = pd.to_numeric(df_player_bios['PLAYER_HEIGHT_INCHES'], errors='coerce')\n",
    "\n",
    "df_player_bios.head()"
   ]
  },
  {
   "cell_type": "code",
   "execution_count": 94,
   "metadata": {},
   "outputs": [
    {
     "data": {
      "text/plain": [
       "<matplotlib.axes._subplots.AxesSubplot at 0x12c92372940>"
      ]
     },
     "execution_count": 94,
     "metadata": {},
     "output_type": "execute_result"
    },
    {
     "data": {
      "image/png": "[encoded data removed]",
      "text/plain": [
       "<Figure size 432x288 with 1 Axes>"
      ]
     },
     "metadata": {},
     "output_type": "display_data"
    }
   ],
   "source": [
    "df_player_bios.plot.scatter('DRAFT_NUMBER', 'PLAYER_HEIGHT_INCHES')"
   ]
  },
  {
   "cell_type": "markdown",
   "metadata": {},
   "source": [
    "Data not linear, so we can't run linear regression"
   ]
  },
  {
   "cell_type": "markdown",
   "metadata": {},
   "source": [
    "# Q->Q  regression t-test for the slope\n",
    "### Windgspan deflections?"
   ]
  },
  {
   "cell_type": "code",
   "execution_count": 100,
   "metadata": {},
   "outputs": [
    {
     "data": {
      "text/html": [
       "<div>\n",
       "<style scoped>\n",
       "    .dataframe tbody tr th:only-of-type {\n",
       "        vertical-align: middle;\n",
       "    }\n",
       "\n",
       "    .dataframe tbody tr th {\n",
       "        vertical-align: top;\n",
       "    }\n",
       "\n",
       "    .dataframe thead th {\n",
       "        text-align: right;\n",
       "    }\n",
       "</style>\n",
       "<table border=\"1\" class=\"dataframe\">\n",
       "  <thead>\n",
       "    <tr style=\"text-align: right;\">\n",
       "      <th></th>\n",
       "      <th>Player</th>\n",
       "      <th>Wingspan-in</th>\n",
       "      <th>Height-in</th>\n",
       "      <th>DWS</th>\n",
       "      <th>Pos</th>\n",
       "    </tr>\n",
       "  </thead>\n",
       "  <tbody>\n",
       "    <tr>\n",
       "      <th>0</th>\n",
       "      <td>Andre Drummond</td>\n",
       "      <td>90.25</td>\n",
       "      <td>81.75</td>\n",
       "      <td>5.7</td>\n",
       "      <td>C</td>\n",
       "    </tr>\n",
       "    <tr>\n",
       "      <th>1</th>\n",
       "      <td>Ben Simmons</td>\n",
       "      <td>83.50</td>\n",
       "      <td>82.00</td>\n",
       "      <td>5.0</td>\n",
       "      <td>PG</td>\n",
       "    </tr>\n",
       "    <tr>\n",
       "      <th>2</th>\n",
       "      <td>Anthony Davis</td>\n",
       "      <td>89.50</td>\n",
       "      <td>81.25</td>\n",
       "      <td>4.9</td>\n",
       "      <td>PF</td>\n",
       "    </tr>\n",
       "    <tr>\n",
       "      <th>3</th>\n",
       "      <td>Robert Covington</td>\n",
       "      <td>85.75</td>\n",
       "      <td>78.25</td>\n",
       "      <td>4.5</td>\n",
       "      <td>SF</td>\n",
       "    </tr>\n",
       "    <tr>\n",
       "      <th>4</th>\n",
       "      <td>Russell Westbrook</td>\n",
       "      <td>79.75</td>\n",
       "      <td>74.25</td>\n",
       "      <td>4.5</td>\n",
       "      <td>PG</td>\n",
       "    </tr>\n",
       "  </tbody>\n",
       "</table>\n",
       "</div>"
      ],
      "text/plain": [
       "              Player  Wingspan-in  Height-in  DWS Pos\n",
       "0     Andre Drummond        90.25      81.75  5.7   C\n",
       "1        Ben Simmons        83.50      82.00  5.0  PG\n",
       "2      Anthony Davis        89.50      81.25  4.9  PF\n",
       "3   Robert Covington        85.75      78.25  4.5  SF\n",
       "4  Russell Westbrook        79.75      74.25  4.5  PG"
      ]
     },
     "execution_count": 100,
     "metadata": {},
     "output_type": "execute_result"
    }
   ],
   "source": [
    "df_player_wingspan = pd.read_csv('NBA_analysis\\CSV datasets\\\\namewingspanposition.csv', sep=',')\n",
    "df_player_wingspan.head()"
   ]
  },
  {
   "cell_type": "code",
   "execution_count": 98,
   "metadata": {},
   "outputs": [
    {
     "data": {
      "text/html": [
       "<div>\n",
       "<style scoped>\n",
       "    .dataframe tbody tr th:only-of-type {\n",
       "        vertical-align: middle;\n",
       "    }\n",
       "\n",
       "    .dataframe tbody tr th {\n",
       "        vertical-align: top;\n",
       "    }\n",
       "\n",
       "    .dataframe thead th {\n",
       "        text-align: right;\n",
       "    }\n",
       "</style>\n",
       "<table border=\"1\" class=\"dataframe\">\n",
       "  <thead>\n",
       "    <tr style=\"text-align: right;\">\n",
       "      <th></th>\n",
       "      <th>PLAYER_ID</th>\n",
       "      <th>PLAYER_NAME</th>\n",
       "      <th>TEAM_ID</th>\n",
       "      <th>TEAM_ABBREVIATION</th>\n",
       "      <th>AGE</th>\n",
       "      <th>G</th>\n",
       "      <th>MIN</th>\n",
       "      <th>CONTESTED_SHOTS</th>\n",
       "      <th>CONTESTED_SHOTS_2PT</th>\n",
       "      <th>CONTESTED_SHOTS_3PT</th>\n",
       "      <th>CHARGES_DRAWN</th>\n",
       "      <th>DEFLECTIONS</th>\n",
       "      <th>LOOSE_BALLS_RECOVERED</th>\n",
       "      <th>BOX_OUTS</th>\n",
       "    </tr>\n",
       "  </thead>\n",
       "  <tbody>\n",
       "    <tr>\n",
       "      <th>0</th>\n",
       "      <td>201166</td>\n",
       "      <td>Aaron Brooks</td>\n",
       "      <td>1610612750</td>\n",
       "      <td>MIN</td>\n",
       "      <td>33.0</td>\n",
       "      <td>32</td>\n",
       "      <td>6.0</td>\n",
       "      <td>1.53</td>\n",
       "      <td>0.59</td>\n",
       "      <td>0.94</td>\n",
       "      <td>0.03</td>\n",
       "      <td>0.31</td>\n",
       "      <td>0.22</td>\n",
       "      <td>0.19</td>\n",
       "    </tr>\n",
       "    <tr>\n",
       "      <th>1</th>\n",
       "      <td>203932</td>\n",
       "      <td>Aaron Gordon</td>\n",
       "      <td>1610612753</td>\n",
       "      <td>ORL</td>\n",
       "      <td>22.0</td>\n",
       "      <td>58</td>\n",
       "      <td>33.0</td>\n",
       "      <td>6.47</td>\n",
       "      <td>4.69</td>\n",
       "      <td>1.78</td>\n",
       "      <td>0.07</td>\n",
       "      <td>1.41</td>\n",
       "      <td>1.21</td>\n",
       "      <td>2.72</td>\n",
       "    </tr>\n",
       "    <tr>\n",
       "      <th>2</th>\n",
       "      <td>1626151</td>\n",
       "      <td>Aaron Harrison</td>\n",
       "      <td>1610612742</td>\n",
       "      <td>DAL</td>\n",
       "      <td>23.0</td>\n",
       "      <td>9</td>\n",
       "      <td>26.0</td>\n",
       "      <td>6.56</td>\n",
       "      <td>3.33</td>\n",
       "      <td>3.22</td>\n",
       "      <td>0.0</td>\n",
       "      <td>2.0</td>\n",
       "      <td>0.89</td>\n",
       "      <td>0.78</td>\n",
       "    </tr>\n",
       "    <tr>\n",
       "      <th>3</th>\n",
       "      <td>1628935</td>\n",
       "      <td>Aaron Jackson</td>\n",
       "      <td>1610612745</td>\n",
       "      <td>HOU</td>\n",
       "      <td>32.0</td>\n",
       "      <td>1</td>\n",
       "      <td>35.0</td>\n",
       "      <td>0.0</td>\n",
       "      <td>0.0</td>\n",
       "      <td>0.0</td>\n",
       "      <td>0.0</td>\n",
       "      <td>4.0</td>\n",
       "      <td>0.0</td>\n",
       "      <td>0.0</td>\n",
       "    </tr>\n",
       "    <tr>\n",
       "      <th>4</th>\n",
       "      <td>1627846</td>\n",
       "      <td>Abdel Nader</td>\n",
       "      <td>1610612738</td>\n",
       "      <td>BOS</td>\n",
       "      <td>24.0</td>\n",
       "      <td>48</td>\n",
       "      <td>11.0</td>\n",
       "      <td>2.77</td>\n",
       "      <td>1.46</td>\n",
       "      <td>1.31</td>\n",
       "      <td>0.0</td>\n",
       "      <td>0.69</td>\n",
       "      <td>0.38</td>\n",
       "      <td>0.83</td>\n",
       "    </tr>\n",
       "  </tbody>\n",
       "</table>\n",
       "</div>"
      ],
      "text/plain": [
       "   PLAYER_ID     PLAYER_NAME     TEAM_ID TEAM_ABBREVIATION   AGE   G   MIN  \\\n",
       "0     201166    Aaron Brooks  1610612750               MIN  33.0  32   6.0   \n",
       "1     203932    Aaron Gordon  1610612753               ORL  22.0  58  33.0   \n",
       "2    1626151  Aaron Harrison  1610612742               DAL  23.0   9  26.0   \n",
       "3    1628935   Aaron Jackson  1610612745               HOU  32.0   1  35.0   \n",
       "4    1627846     Abdel Nader  1610612738               BOS  24.0  48  11.0   \n",
       "\n",
       "  CONTESTED_SHOTS CONTESTED_SHOTS_2PT CONTESTED_SHOTS_3PT CHARGES_DRAWN  \\\n",
       "0            1.53                0.59                0.94          0.03   \n",
       "1            6.47                4.69                1.78          0.07   \n",
       "2            6.56                3.33                3.22           0.0   \n",
       "3             0.0                 0.0                 0.0           0.0   \n",
       "4            2.77                1.46                1.31           0.0   \n",
       "\n",
       "  DEFLECTIONS LOOSE_BALLS_RECOVERED BOX_OUTS  \n",
       "0        0.31                  0.22     0.19  \n",
       "1        1.41                  1.21     2.72  \n",
       "2         2.0                  0.89     0.78  \n",
       "3         4.0                   0.0      0.0  \n",
       "4        0.69                  0.38     0.83  "
      ]
     },
     "execution_count": 98,
     "metadata": {},
     "output_type": "execute_result"
    }
   ],
   "source": [
    "df_player_deflections = pd.read_csv('NBA_analysis\\CSV datasets\\\\playerdeflections.csv', sep=', ', engine = 'python')\n",
    "df_player_deflections.head()"
   ]
  },
  {
   "cell_type": "code",
   "execution_count": 101,
   "metadata": {},
   "outputs": [
    {
     "data": {
      "text/html": [
       "<div>\n",
       "<style scoped>\n",
       "    .dataframe tbody tr th:only-of-type {\n",
       "        vertical-align: middle;\n",
       "    }\n",
       "\n",
       "    .dataframe tbody tr th {\n",
       "        vertical-align: top;\n",
       "    }\n",
       "\n",
       "    .dataframe thead th {\n",
       "        text-align: right;\n",
       "    }\n",
       "</style>\n",
       "<table border=\"1\" class=\"dataframe\">\n",
       "  <thead>\n",
       "    <tr style=\"text-align: right;\">\n",
       "      <th></th>\n",
       "      <th>PLAYER_ID</th>\n",
       "      <th>PLAYER_NAME</th>\n",
       "      <th>TEAM_ID</th>\n",
       "      <th>TEAM_ABBREVIATION</th>\n",
       "      <th>AGE</th>\n",
       "      <th>G</th>\n",
       "      <th>MIN</th>\n",
       "      <th>CONTESTED_SHOTS</th>\n",
       "      <th>CONTESTED_SHOTS_2PT</th>\n",
       "      <th>CONTESTED_SHOTS_3PT</th>\n",
       "      <th>CHARGES_DRAWN</th>\n",
       "      <th>DEFLECTIONS</th>\n",
       "      <th>LOOSE_BALLS_RECOVERED</th>\n",
       "      <th>BOX_OUTS</th>\n",
       "      <th>Player</th>\n",
       "      <th>Wingspan-in</th>\n",
       "      <th>Height-in</th>\n",
       "      <th>DWS</th>\n",
       "      <th>Pos</th>\n",
       "    </tr>\n",
       "  </thead>\n",
       "  <tbody>\n",
       "    <tr>\n",
       "      <th>0</th>\n",
       "      <td>201166</td>\n",
       "      <td>Aaron Brooks</td>\n",
       "      <td>1610612750</td>\n",
       "      <td>MIN</td>\n",
       "      <td>33.0</td>\n",
       "      <td>32</td>\n",
       "      <td>6.0</td>\n",
       "      <td>1.53</td>\n",
       "      <td>0.59</td>\n",
       "      <td>0.94</td>\n",
       "      <td>0.03</td>\n",
       "      <td>0.31</td>\n",
       "      <td>0.22</td>\n",
       "      <td>0.19</td>\n",
       "      <td>Aaron Brooks</td>\n",
       "      <td>76.00</td>\n",
       "      <td>70.0</td>\n",
       "      <td>0.1</td>\n",
       "      <td>PG</td>\n",
       "    </tr>\n",
       "    <tr>\n",
       "      <th>1</th>\n",
       "      <td>203932</td>\n",
       "      <td>Aaron Gordon</td>\n",
       "      <td>1610612753</td>\n",
       "      <td>ORL</td>\n",
       "      <td>22.0</td>\n",
       "      <td>58</td>\n",
       "      <td>33.0</td>\n",
       "      <td>6.47</td>\n",
       "      <td>4.69</td>\n",
       "      <td>1.78</td>\n",
       "      <td>0.07</td>\n",
       "      <td>1.41</td>\n",
       "      <td>1.21</td>\n",
       "      <td>2.72</td>\n",
       "      <td>Aaron Gordon</td>\n",
       "      <td>83.75</td>\n",
       "      <td>79.5</td>\n",
       "      <td>2.0</td>\n",
       "      <td>PF</td>\n",
       "    </tr>\n",
       "    <tr>\n",
       "      <th>2</th>\n",
       "      <td>1626151</td>\n",
       "      <td>Aaron Harrison</td>\n",
       "      <td>1610612742</td>\n",
       "      <td>DAL</td>\n",
       "      <td>23.0</td>\n",
       "      <td>9</td>\n",
       "      <td>26.0</td>\n",
       "      <td>6.56</td>\n",
       "      <td>3.33</td>\n",
       "      <td>3.22</td>\n",
       "      <td>0.0</td>\n",
       "      <td>2.0</td>\n",
       "      <td>0.89</td>\n",
       "      <td>0.78</td>\n",
       "      <td>Aaron Harrison</td>\n",
       "      <td>80.00</td>\n",
       "      <td>78.0</td>\n",
       "      <td>0.2</td>\n",
       "      <td>SG</td>\n",
       "    </tr>\n",
       "    <tr>\n",
       "      <th>3</th>\n",
       "      <td>1628935</td>\n",
       "      <td>Aaron Jackson</td>\n",
       "      <td>1610612745</td>\n",
       "      <td>HOU</td>\n",
       "      <td>32.0</td>\n",
       "      <td>1</td>\n",
       "      <td>35.0</td>\n",
       "      <td>0.0</td>\n",
       "      <td>0.0</td>\n",
       "      <td>0.0</td>\n",
       "      <td>0.0</td>\n",
       "      <td>4.0</td>\n",
       "      <td>0.0</td>\n",
       "      <td>0.0</td>\n",
       "      <td>Aaron Jackson</td>\n",
       "      <td>75.00</td>\n",
       "      <td>76.0</td>\n",
       "      <td>0.0</td>\n",
       "      <td>PG</td>\n",
       "    </tr>\n",
       "    <tr>\n",
       "      <th>4</th>\n",
       "      <td>1627846</td>\n",
       "      <td>Abdel Nader</td>\n",
       "      <td>1610612738</td>\n",
       "      <td>BOS</td>\n",
       "      <td>24.0</td>\n",
       "      <td>48</td>\n",
       "      <td>11.0</td>\n",
       "      <td>2.77</td>\n",
       "      <td>1.46</td>\n",
       "      <td>1.31</td>\n",
       "      <td>0.0</td>\n",
       "      <td>0.69</td>\n",
       "      <td>0.38</td>\n",
       "      <td>0.83</td>\n",
       "      <td>Abdel Nader</td>\n",
       "      <td>85.00</td>\n",
       "      <td>78.0</td>\n",
       "      <td>0.8</td>\n",
       "      <td>SF</td>\n",
       "    </tr>\n",
       "  </tbody>\n",
       "</table>\n",
       "</div>"
      ],
      "text/plain": [
       "   PLAYER_ID     PLAYER_NAME     TEAM_ID TEAM_ABBREVIATION   AGE   G   MIN  \\\n",
       "0     201166    Aaron Brooks  1610612750               MIN  33.0  32   6.0   \n",
       "1     203932    Aaron Gordon  1610612753               ORL  22.0  58  33.0   \n",
       "2    1626151  Aaron Harrison  1610612742               DAL  23.0   9  26.0   \n",
       "3    1628935   Aaron Jackson  1610612745               HOU  32.0   1  35.0   \n",
       "4    1627846     Abdel Nader  1610612738               BOS  24.0  48  11.0   \n",
       "\n",
       "  CONTESTED_SHOTS CONTESTED_SHOTS_2PT CONTESTED_SHOTS_3PT CHARGES_DRAWN  \\\n",
       "0            1.53                0.59                0.94          0.03   \n",
       "1            6.47                4.69                1.78          0.07   \n",
       "2            6.56                3.33                3.22           0.0   \n",
       "3             0.0                 0.0                 0.0           0.0   \n",
       "4            2.77                1.46                1.31           0.0   \n",
       "\n",
       "  DEFLECTIONS LOOSE_BALLS_RECOVERED BOX_OUTS          Player  Wingspan-in  \\\n",
       "0        0.31                  0.22     0.19    Aaron Brooks        76.00   \n",
       "1        1.41                  1.21     2.72    Aaron Gordon        83.75   \n",
       "2         2.0                  0.89     0.78  Aaron Harrison        80.00   \n",
       "3         4.0                   0.0      0.0   Aaron Jackson        75.00   \n",
       "4        0.69                  0.38     0.83     Abdel Nader        85.00   \n",
       "\n",
       "   Height-in  DWS Pos  \n",
       "0       70.0  0.1  PG  \n",
       "1       79.5  2.0  PF  \n",
       "2       78.0  0.2  SG  \n",
       "3       76.0  0.0  PG  \n",
       "4       78.0  0.8  SF  "
      ]
     },
     "execution_count": 101,
     "metadata": {},
     "output_type": "execute_result"
    }
   ],
   "source": [
    "df_wingspan_deflections_with_nans = df_player_deflections.merge(df_player_wingspan, left_on = 'PLAYER_NAME', right_on = 'Player', how = 'left')\n",
    "df_wingspan_deflections_with_nans.head()"
   ]
  },
  {
   "cell_type": "code",
   "execution_count": 103,
   "metadata": {},
   "outputs": [
    {
     "data": {
      "text/plain": [
       "PLAYER_ID                 0\n",
       "PLAYER_NAME               0\n",
       "TEAM_ID                   0\n",
       "TEAM_ABBREVIATION         0\n",
       "AGE                       0\n",
       "G                         0\n",
       "MIN                       0\n",
       "CONTESTED_SHOTS           0\n",
       "CONTESTED_SHOTS_2PT       0\n",
       "CONTESTED_SHOTS_3PT       0\n",
       "CHARGES_DRAWN             0\n",
       "DEFLECTIONS               0\n",
       "LOOSE_BALLS_RECOVERED     0\n",
       "BOX_OUTS                  0\n",
       "Player                   28\n",
       "Wingspan-in              28\n",
       "Height-in                28\n",
       "DWS                      28\n",
       "Pos                      28\n",
       "dtype: int64"
      ]
     },
     "execution_count": 103,
     "metadata": {},
     "output_type": "execute_result"
    }
   ],
   "source": [
    "df_wingspan_deflections_with_nans.isnull().sum()"
   ]
  },
  {
   "cell_type": "code",
   "execution_count": 102,
   "metadata": {},
   "outputs": [],
   "source": [
    "# weed out inconsistencies in data\n",
    "df_wingspan_deflections_oneoff = df_wingspan_deflections_with_nans.dropna()"
   ]
  },
  {
   "cell_type": "code",
   "execution_count": 104,
   "metadata": {},
   "outputs": [],
   "source": [
    "df_wingspan_deflections = df_wingspan_deflections_oneoff.query('G >= 15')"
   ]
  },
  {
   "cell_type": "code",
   "execution_count": 105,
   "metadata": {},
   "outputs": [
    {
     "name": "stderr",
     "output_type": "stream",
     "text": [
      "C:\\Users\\Bakhtiyar\\Anaconda3\\lib\\site-packages\\ipykernel_launcher.py:1: SettingWithCopyWarning: \n",
      "A value is trying to be set on a copy of a slice from a DataFrame.\n",
      "Try using .loc[row_indexer,col_indexer] = value instead\n",
      "\n",
      "See the caveats in the documentation: http://pandas.pydata.org/pandas-docs/stable/indexing.html#indexing-view-versus-copy\n",
      "  \"\"\"Entry point for launching an IPython kernel.\n"
     ]
    }
   ],
   "source": [
    "df_wingspan_deflections['DEFLECTIONS'] = pd.to_numeric(df_wingspan_deflections['DEFLECTIONS'], errors='coerce')"
   ]
  },
  {
   "cell_type": "code",
   "execution_count": 106,
   "metadata": {},
   "outputs": [],
   "source": [
    "df_wingspan_deflections_centers = df_wingspan_deflections.query('Pos==\"C\"')\n",
    "df_wingspan_deflections_forwards = df_wingspan_deflections[(df_wingspan_deflections['Pos'] == \"PF\") | (df_wingspan_deflections['Pos'] == \"SF\")]\n",
    "df_wingspan_deflections_guards = df_wingspan_deflections[(df_wingspan_deflections['Pos'] == \"PG\") | (df_wingspan_deflections['Pos'] == \"SG\")]"
   ]
  },
  {
   "cell_type": "code",
   "execution_count": 107,
   "metadata": {},
   "outputs": [
    {
     "data": {
      "text/plain": [
       "<matplotlib.axes._subplots.AxesSubplot at 0x12c921cc2b0>"
      ]
     },
     "execution_count": 107,
     "metadata": {},
     "output_type": "execute_result"
    },
    {
     "data": {
      "image/png": "[encoded data removed]",
      "text/plain": [
       "<Figure size 432x288 with 1 Axes>"
      ]
     },
     "metadata": {},
     "output_type": "display_data"
    }
   ],
   "source": [
    "df_wingspan_deflections.plot.scatter('Wingspan-in', 'DEFLECTIONS')"
   ]
  },
  {
   "cell_type": "code",
   "execution_count": 108,
   "metadata": {},
   "outputs": [
    {
     "data": {
      "text/plain": [
       "<matplotlib.axes._subplots.AxesSubplot at 0x12c92586828>"
      ]
     },
     "execution_count": 108,
     "metadata": {},
     "output_type": "execute_result"
    },
    {
     "data": {
      "image/png": "[encoded data removed]",
      "text/plain": [
       "<Figure size 432x288 with 1 Axes>"
      ]
     },
     "metadata": {},
     "output_type": "display_data"
    }
   ],
   "source": [
    "df_wingspan_deflections_centers.plot.scatter('Wingspan-in', 'DEFLECTIONS')"
   ]
  },
  {
   "cell_type": "code",
   "execution_count": 109,
   "metadata": {},
   "outputs": [
    {
     "data": {
      "text/plain": [
       "<matplotlib.axes._subplots.AxesSubplot at 0x12c92266710>"
      ]
     },
     "execution_count": 109,
     "metadata": {},
     "output_type": "execute_result"
    },
    {
     "data": {
      "image/png": "[encoded data removed]",
      "text/plain": [
       "<Figure size 432x288 with 1 Axes>"
      ]
     },
     "metadata": {},
     "output_type": "display_data"
    }
   ],
   "source": [
    "df_wingspan_deflections_forwards.plot.scatter('Wingspan-in', 'DEFLECTIONS')"
   ]
  },
  {
   "cell_type": "code",
   "execution_count": 110,
   "metadata": {},
   "outputs": [
    {
     "data": {
      "text/plain": [
       "<matplotlib.axes._subplots.AxesSubplot at 0x12c91e31e10>"
      ]
     },
     "execution_count": 110,
     "metadata": {},
     "output_type": "execute_result"
    },
    {
     "data": {
      "image/png": "[encoded data removed]",
      "text/plain": [
       "<Figure size 432x288 with 1 Axes>"
      ]
     },
     "metadata": {},
     "output_type": "display_data"
    }
   ],
   "source": [
    "df_wingspan_deflections_guards.plot.scatter('Wingspan-in', 'DEFLECTIONS')"
   ]
  },
  {
   "cell_type": "markdown",
   "metadata": {},
   "source": [
    "Only guards have anything similar to linear relationship"
   ]
  },
  {
   "cell_type": "code",
   "execution_count": 111,
   "metadata": {},
   "outputs": [
    {
     "data": {
      "text/plain": [
       "Text(0,0.5,'Результативные отклонения')"
      ]
     },
     "execution_count": 111,
     "metadata": {},
     "output_type": "execute_result"
    },
    {
     "data": {
      "image/png": "[encoded data removed]",
      "text/plain": [
       "<Figure size 432x288 with 1 Axes>"
      ]
     },
     "metadata": {},
     "output_type": "display_data"
    }
   ],
   "source": [
    "# In Russian\n",
    "df_wingspan_deflections_guards.plot.scatter('Wingspan-in', 'DEFLECTIONS')\n",
    "plt.title(\"Диаграмма рассеяния размаха рук и количества результативных отклонений среди защитников\")\n",
    "plt.xlabel(\"Размах рук\")\n",
    "plt.ylabel(\"Результативные отклонения\")"
   ]
  },
  {
   "cell_type": "code",
   "execution_count": 112,
   "metadata": {},
   "outputs": [
    {
     "data": {
      "text/plain": [
       "LinregressResult(slope=0.044586148284437035, intercept=-2.122655924334114, rvalue=0.1685162215044324, pvalue=0.02185052959921897, stderr=0.01927866522149792)"
      ]
     },
     "execution_count": 112,
     "metadata": {},
     "output_type": "execute_result"
    }
   ],
   "source": [
    "stats.linregress(df_wingspan_deflections_guards['Wingspan-in'], df_wingspan_deflections_guards['DEFLECTIONS'])"
   ]
  },
  {
   "cell_type": "markdown",
   "metadata": {},
   "source": [
    "# Q->Q  regression t-test for the slope\n",
    "### Wingspan steals?"
   ]
  },
  {
   "cell_type": "code",
   "execution_count": 116,
   "metadata": {},
   "outputs": [],
   "source": [
    "df_player_wingspan = pd.read_csv('NBA_analysis\\CSV datasets\\\\namewingspanposition.csv', sep=',')\n",
    "df_player_defensive = pd.read_csv('NBA_analysis\\CSV datasets\\\\playerdefensive.csv', sep=', ', engine = 'python')"
   ]
  },
  {
   "cell_type": "code",
   "execution_count": 117,
   "metadata": {},
   "outputs": [],
   "source": [
    "df_wingspan_defensive_with_nans = df_player_defensive.merge(df_player_wingspan, left_on = 'PLAYER_NAME', right_on = 'Player', how = 'left')"
   ]
  },
  {
   "cell_type": "code",
   "execution_count": 118,
   "metadata": {},
   "outputs": [],
   "source": [
    "# weed out inconsistencies in data\n",
    "df_wingspan_defensive_oneoff = df_wingspan_defensive_with_nans.dropna()\n"
   ]
  },
  {
   "cell_type": "code",
   "execution_count": 119,
   "metadata": {},
   "outputs": [],
   "source": [
    "df_wingspan_defensive = df_wingspan_defensive_oneoff.query('GP > 15')"
   ]
  },
  {
   "cell_type": "code",
   "execution_count": 120,
   "metadata": {},
   "outputs": [
    {
     "name": "stderr",
     "output_type": "stream",
     "text": [
      "C:\\Users\\Bakhtiyar\\Anaconda3\\lib\\site-packages\\ipykernel_launcher.py:1: SettingWithCopyWarning: \n",
      "A value is trying to be set on a copy of a slice from a DataFrame.\n",
      "Try using .loc[row_indexer,col_indexer] = value instead\n",
      "\n",
      "See the caveats in the documentation: http://pandas.pydata.org/pandas-docs/stable/indexing.html#indexing-view-versus-copy\n",
      "  \"\"\"Entry point for launching an IPython kernel.\n"
     ]
    }
   ],
   "source": [
    "df_wingspan_defensive['STL'] = pd.to_numeric(df_wingspan_defensive['STL'], errors='coerce')"
   ]
  },
  {
   "cell_type": "code",
   "execution_count": 121,
   "metadata": {},
   "outputs": [],
   "source": [
    "df_wingspan_defensive_centers = df_wingspan_defensive.query('Pos==\"C\"')\n",
    "df_wingspan_defensive_forwards = df_wingspan_defensive[(df_wingspan_defensive['Pos'] == \"PF\") | (df_wingspan_defensive['Pos'] == \"SF\")]\n",
    "df_wingspan_defensive_guards = df_wingspan_defensive[(df_wingspan_defensive['Pos'] == \"PG\") | (df_wingspan_defensive['Pos'] == \"SG\")]"
   ]
  },
  {
   "cell_type": "code",
   "execution_count": 122,
   "metadata": {},
   "outputs": [
    {
     "data": {
      "text/plain": [
       "<matplotlib.axes._subplots.AxesSubplot at 0x12c91ec0160>"
      ]
     },
     "execution_count": 122,
     "metadata": {},
     "output_type": "execute_result"
    },
    {
     "data": {
      "image/png": "[encoded data removed]",
      "text/plain": [
       "<Figure size 432x288 with 1 Axes>"
      ]
     },
     "metadata": {},
     "output_type": "display_data"
    }
   ],
   "source": [
    "df_wingspan_defensive.plot.scatter('Wingspan-in', 'STL')"
   ]
  },
  {
   "cell_type": "code",
   "execution_count": 123,
   "metadata": {},
   "outputs": [
    {
     "data": {
      "text/plain": [
       "<matplotlib.axes._subplots.AxesSubplot at 0x12c91eb5048>"
      ]
     },
     "execution_count": 123,
     "metadata": {},
     "output_type": "execute_result"
    },
    {
     "data": {
      "image/png": "[encoded data removed]",
      "text/plain": [
       "<Figure size 432x288 with 1 Axes>"
      ]
     },
     "metadata": {},
     "output_type": "display_data"
    }
   ],
   "source": [
    "df_wingspan_defensive_centers.plot.scatter('Wingspan-in', 'STL')"
   ]
  },
  {
   "cell_type": "code",
   "execution_count": 124,
   "metadata": {},
   "outputs": [
    {
     "data": {
      "text/plain": [
       "<matplotlib.axes._subplots.AxesSubplot at 0x12c91ea1da0>"
      ]
     },
     "execution_count": 124,
     "metadata": {},
     "output_type": "execute_result"
    },
    {
     "data": {
      "image/png": "[encoded data removed]",
      "text/plain": [
       "<Figure size 432x288 with 1 Axes>"
      ]
     },
     "metadata": {},
     "output_type": "display_data"
    }
   ],
   "source": [
    "df_wingspan_defensive_forwards.plot.scatter('Wingspan-in', 'STL')"
   ]
  },
  {
   "cell_type": "code",
   "execution_count": 125,
   "metadata": {},
   "outputs": [
    {
     "data": {
      "text/plain": [
       "<matplotlib.axes._subplots.AxesSubplot at 0x12c91f2c4a8>"
      ]
     },
     "execution_count": 125,
     "metadata": {},
     "output_type": "execute_result"
    },
    {
     "data": {
      "image/png": "[encoded data removed]",
      "text/plain": [
       "<Figure size 432x288 with 1 Axes>"
      ]
     },
     "metadata": {},
     "output_type": "display_data"
    }
   ],
   "source": [
    "df_wingspan_defensive_guards.plot.scatter('Wingspan-in', 'STL')"
   ]
  },
  {
   "cell_type": "markdown",
   "metadata": {},
   "source": [
    "Again, only for guards the data show any linearity"
   ]
  },
  {
   "cell_type": "code",
   "execution_count": 126,
   "metadata": {},
   "outputs": [
    {
     "data": {
      "text/plain": [
       "Text(0,0.5,'Перехваты')"
      ]
     },
     "execution_count": 126,
     "metadata": {},
     "output_type": "execute_result"
    },
    {
     "data": {
      "image/png": "[encoded data removed]",
      "text/plain": [
       "<Figure size 432x288 with 1 Axes>"
      ]
     },
     "metadata": {},
     "output_type": "display_data"
    }
   ],
   "source": [
    "# In Russian\n",
    "df_wingspan_defensive_guards.plot.scatter('Wingspan-in', 'STL')\n",
    "plt.title(\"Диаграмма рассеяния размаха рук и количества успешных перехватов среди защитников\")\n",
    "plt.xlabel(\"Размах рук\")\n",
    "plt.ylabel(\"Перехваты\")"
   ]
  },
  {
   "cell_type": "code",
   "execution_count": 128,
   "metadata": {},
   "outputs": [
    {
     "data": {
      "text/plain": [
       "LinregressResult(slope=0.020907033326887838, intercept=-0.8600338179506402, rvalue=0.1412903701579556, pvalue=0.05779801365934409, stderr=0.01094900303542529)"
      ]
     },
     "execution_count": 128,
     "metadata": {},
     "output_type": "execute_result"
    }
   ],
   "source": [
    "stats.linregress(df_wingspan_defensive_guards['Wingspan-in'], df_wingspan_defensive_guards['STL'])"
   ]
  },
  {
   "cell_type": "code",
   "execution_count": 130,
   "metadata": {},
   "outputs": [
    {
     "data": {
      "text/plain": [
       "LinregressResult(slope=0.018351600012036094, intercept=-1.0936127043807073, rvalue=0.14513319922216392, pvalue=0.17230128438642828, stderr=0.013336536523138048)"
      ]
     },
     "execution_count": 130,
     "metadata": {},
     "output_type": "execute_result"
    }
   ],
   "source": [
    "stats.linregress(df_wingspan_defensive_centers['Wingspan-in'], df_wingspan_defensive_centers['STL'])"
   ]
  }
 ],
 "metadata": {
  "kernelspec": {
   "display_name": "Python 3",
   "language": "python",
   "name": "python3"
  },
  "language_info": {
   "codemirror_mode": {
    "name": "ipython",
    "version": 3
   },
   "file_extension": ".py",
   "mimetype": "text/x-python",
   "name": "python",
   "nbconvert_exporter": "python",
   "pygments_lexer": "ipython3",
   "version": "3.6.5"
  }
 },
 "nbformat": 4,
 "nbformat_minor": 2
}
